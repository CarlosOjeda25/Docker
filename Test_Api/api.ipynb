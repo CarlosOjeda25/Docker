{
 "cells": [
  {
   "cell_type": "code",
   "execution_count": 8,
   "id": "c94b7097",
   "metadata": {},
   "outputs": [
    {
     "ename": "SyntaxError",
     "evalue": "invalid syntax (880255044.py, line 1)",
     "output_type": "error",
     "traceback": [
      "  \u001b[36mCell\u001b[39m\u001b[36m \u001b[39m\u001b[32mIn[8]\u001b[39m\u001b[32m, line 1\u001b[39m\n\u001b[31m    \u001b[39m\u001b[31mTest API 1\u001b[39m\n         ^\n\u001b[31mSyntaxError\u001b[39m\u001b[31m:\u001b[39m invalid syntax\n"
     ]
    }
   ],
   "source": [
    "Test API 1"
   ]
  },
  {
   "cell_type": "code",
   "execution_count": 11,
   "id": "b50ad67f",
   "metadata": {},
   "outputs": [
    {
     "name": "stdout",
     "output_type": "stream",
     "text": [
      "Requirement already satisfied: requests in c:\\users\\duvan\\appdata\\local\\packages\\pythonsoftwarefoundation.python.3.11_qbz5n2kfra8p0\\localcache\\local-packages\\python311\\site-packages (2.32.5)\n",
      "Requirement already satisfied: charset_normalizer<4,>=2 in c:\\users\\duvan\\appdata\\local\\packages\\pythonsoftwarefoundation.python.3.11_qbz5n2kfra8p0\\localcache\\local-packages\\python311\\site-packages (from requests) (3.4.3)\n",
      "Requirement already satisfied: idna<4,>=2.5 in c:\\users\\duvan\\appdata\\local\\packages\\pythonsoftwarefoundation.python.3.11_qbz5n2kfra8p0\\localcache\\local-packages\\python311\\site-packages (from requests) (3.10)\n",
      "Requirement already satisfied: urllib3<3,>=1.21.1 in c:\\users\\duvan\\appdata\\local\\packages\\pythonsoftwarefoundation.python.3.11_qbz5n2kfra8p0\\localcache\\local-packages\\python311\\site-packages (from requests) (2.5.0)\n",
      "Requirement already satisfied: certifi>=2017.4.17 in c:\\users\\duvan\\appdata\\local\\packages\\pythonsoftwarefoundation.python.3.11_qbz5n2kfra8p0\\localcache\\local-packages\\python311\\site-packages (from requests) (2025.8.3)\n"
     ]
    },
    {
     "name": "stderr",
     "output_type": "stream",
     "text": [
      "\n",
      "[notice] A new release of pip is available: 24.0 -> 25.2\n",
      "[notice] To update, run: C:\\Users\\duvan\\AppData\\Local\\Microsoft\\WindowsApps\\PythonSoftwareFoundation.Python.3.11_qbz5n2kfra8p0\\python.exe -m pip install --upgrade pip\n"
     ]
    }
   ],
   "source": [
    "!pip3 install requests"
   ]
  },
  {
   "cell_type": "code",
   "execution_count": 22,
   "id": "7cc5cc2a",
   "metadata": {},
   "outputs": [
    {
     "name": "stdout",
     "output_type": "stream",
     "text": [
      "{'bitcoin': {'usd': 111585}}\n"
     ]
    }
   ],
   "source": [
    "import requests\n",
    "\n",
    "url = \"http://api.coingecko.com/api/v3/simple/price\"\n",
    "params = {\"ids\": \"bitcoin\", \"vs_currencies\": \"usd\"}\n",
    "response = requests.get(url, params = params)\n",
    "\n",
    "if response.status_code == 200:\n",
    "    print(response.json())  #muestra el numero de el bitcoin es usd\n",
    "else:\n",
    "    print(\"Error de Solicitud: \", response.status_code)\n"
   ]
  },
  {
   "cell_type": "code",
   "execution_count": 29,
   "id": "679d542b",
   "metadata": {},
   "outputs": [
    {
     "name": "stdout",
     "output_type": "stream",
     "text": [
      "El Usuario CarlosOjeda25 tiene 0 repositorios publicos.\n",
      "https://avatars.githubusercontent.com/u/199535661?v=4\n"
     ]
    }
   ],
   "source": [
    "import requests\n",
    "\n",
    "username = input(\"Ingrese su nombre de usuario: \")\n",
    "\n",
    "url = f\"https://api.github.com/users/{username}\"\n",
    "\n",
    "response = requests.get(url)\n",
    "data = response.json()\n",
    "\n",
    "if response.status_code == 200:\n",
    "    print(f\"El Usuario {username} tiene {data['public_repos']} repositorios publicos.\")\n",
    "    print(data[\"avatar_url\"])\n",
    "else:\n",
    "    print(\"Error de Solicitud: \", response.status_code)"
   ]
  },
  {
   "cell_type": "code",
   "execution_count": null,
   "id": "52c0960d",
   "metadata": {},
   "outputs": [
    {
     "name": "stdout",
     "output_type": "stream",
     "text": [
      "Codigo QR generado y guardado como qr_code.png\n"
     ]
    }
   ],
   "source": [
    "import requests\n",
    "\n",
    "text = \"hhtp://www.google.com\"\n",
    "\n",
    "url = f\"https://api.qrserver.com/v1/create-qr-code/?data={text}&size=150x150\"\n",
    "\n",
    "response = requests.get(url)\n",
    "\n",
    "if response.status_code == 200:\n",
    "    with open(\"qrcode.png\", \"wb\") as f:\n",
    "        f.write(response.content)\n",
    "    print(\"Codigo QR generado y guardado como qr_code.png\")\n",
    "else:\n",
    "    print(\"Error de Solicitud: \", response.status_code)\n",
    "\n"
   ]
  },
  {
   "cell_type": "code",
   "execution_count": 36,
   "id": "c00ac605",
   "metadata": {},
   "outputs": [
    {
     "name": "stdout",
     "output_type": "stream",
     "text": [
      "Codigo QR generado y guardado como qr_code.png\n"
     ]
    }
   ],
   "source": [
    "import requests\n",
    "\n",
    "username = input(\"Ingrese su nombre de usuario: \")\n",
    "\n",
    "url = f\"https://api.github.com/users/{username}\"\n",
    "response = requests.get(url)\n",
    "data = response.json()\n",
    "\n",
    "dataurl = data[\"html_url\"]\n",
    "\n",
    "\n",
    "urlqr = f\"https://api.qrserver.com/v1/create-qr-code/?data={dataurl}&size=150x150\"\n",
    "\n",
    "responseqr = requests.get(urlqr)\n",
    "\n",
    "if response.status_code == 200:\n",
    "    if responseqr.status_code == 200:\n",
    "        with open(\"qrcode.png\", \"wb\") as f:\n",
    "            f.write(responseqr.content)\n",
    "        print(\"Codigo QR generado y guardado como qr_code.png\")\n",
    "    else:\n",
    "        print(\"Error de Solicitud Codigo QR: \", responseqr.status_code)\n",
    "else:\n",
    "    print(\"Error de Solicitud Usuario no encontrado: \", response.status_code)"
   ]
  }
 ],
 "metadata": {
  "kernelspec": {
   "display_name": "Python 3",
   "language": "python",
   "name": "python3"
  },
  "language_info": {
   "codemirror_mode": {
    "name": "ipython",
    "version": 3
   },
   "file_extension": ".py",
   "mimetype": "text/x-python",
   "name": "python",
   "nbconvert_exporter": "python",
   "pygments_lexer": "ipython3",
   "version": "3.11.9"
  }
 },
 "nbformat": 4,
 "nbformat_minor": 5
}
