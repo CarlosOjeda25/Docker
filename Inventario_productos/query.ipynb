{
 "cells": [
  {
   "cell_type": "code",
   "execution_count": 22,
   "metadata": {},
   "outputs": [
    {
     "name": "stdout",
     "output_type": "stream",
     "text": [
      "Status Code: 200\n",
      "[{'cantidad': 12,\n",
      "  'costo': '12.00',\n",
      "  'creado': '2025-10-22T01:12:25.370836Z',\n",
      "  'descripcion': 'Leche de vaca',\n",
      "  'id': 16,\n",
      "  'nombre': 'Leche',\n",
      "  'porcentaje_ganancia': '35.00',\n",
      "  'precio': '15.00',\n",
      "  'proveedor': 'D1'},\n",
      " {'cantidad': 12,\n",
      "  'costo': '18.00',\n",
      "  'creado': '2025-10-29T01:35:23.804608Z',\n",
      "  'descripcion': 'Azucar blanca refinada',\n",
      "  'id': 17,\n",
      "  'nombre': 'Azucar',\n",
      "  'porcentaje_ganancia': '35.00',\n",
      "  'precio': '10.00',\n",
      "  'proveedor': 'D1'},\n",
      " {'cantidad': 12,\n",
      "  'costo': '18.00',\n",
      "  'creado': '2025-10-29T01:38:37.708361Z',\n",
      "  'descripcion': 'Azucar blanca refinada',\n",
      "  'id': 18,\n",
      "  'nombre': 'Azucar',\n",
      "  'porcentaje_ganancia': '35.00',\n",
      "  'precio': '10.00',\n",
      "  'proveedor': 'D1'},\n",
      " {'cantidad': 12,\n",
      "  'costo': '18.00',\n",
      "  'creado': '2025-10-29T01:40:35.202019Z',\n",
      "  'descripcion': 'Azucar blanca refinada',\n",
      "  'id': 19,\n",
      "  'nombre': 'Azucar',\n",
      "  'porcentaje_ganancia': '35.00',\n",
      "  'precio': '10.00',\n",
      "  'proveedor': 'D1'},\n",
      " {'cantidad': 5,\n",
      "  'costo': '15.00',\n",
      "  'creado': '2025-10-29T01:48:47.698933Z',\n",
      "  'descripcion': 'Descripcion del producto curl',\n",
      "  'id': 20,\n",
      "  'nombre': 'Producto curl',\n",
      "  'porcentaje_ganancia': '25.00',\n",
      "  'precio': '20.00',\n",
      "  'proveedor': 'Proveedor curl'},\n",
      " {'cantidad': 5,\n",
      "  'costo': '15.00',\n",
      "  'creado': '2025-10-29T01:52:15.964125Z',\n",
      "  'descripcion': 'Descripcion del producto curl',\n",
      "  'id': 21,\n",
      "  'nombre': 'Producto curl',\n",
      "  'porcentaje_ganancia': '25.00',\n",
      "  'precio': '20.00',\n",
      "  'proveedor': 'Proveedor curl'},\n",
      " {'cantidad': 12,\n",
      "  'costo': '18.00',\n",
      "  'creado': '2025-10-29T02:05:11.479076Z',\n",
      "  'descripcion': 'Azucar blanca refinada',\n",
      "  'id': 22,\n",
      "  'nombre': 'Azucar',\n",
      "  'porcentaje_ganancia': '35.00',\n",
      "  'precio': '10.00',\n",
      "  'proveedor': 'D1'},\n",
      " {'cantidad': 12,\n",
      "  'costo': '18.00',\n",
      "  'creado': '2025-10-29T02:05:52.813382Z',\n",
      "  'descripcion': 'Azucar blanca refinada',\n",
      "  'id': 23,\n",
      "  'nombre': 'Azucar',\n",
      "  'porcentaje_ganancia': '35.00',\n",
      "  'precio': '10.00',\n",
      "  'proveedor': 'D1'},\n",
      " {'cantidad': 12,\n",
      "  'costo': '18.00',\n",
      "  'creado': '2025-10-29T02:06:22.690898Z',\n",
      "  'descripcion': 'Azucar blanca refinada',\n",
      "  'id': 24,\n",
      "  'nombre': 'Azucar',\n",
      "  'porcentaje_ganancia': '35.00',\n",
      "  'precio': '10.00',\n",
      "  'proveedor': 'D1'},\n",
      " {'cantidad': 5,\n",
      "  'costo': '15.00',\n",
      "  'creado': '2025-10-29T02:18:50.072990Z',\n",
      "  'descripcion': 'Descripcion del producto curl',\n",
      "  'id': 25,\n",
      "  'nombre': 'Producto curl',\n",
      "  'porcentaje_ganancia': '25.00',\n",
      "  'precio': '20.00',\n",
      "  'proveedor': 'Proveedor curl'},\n",
      " {'cantidad': 12,\n",
      "  'costo': '18.00',\n",
      "  'creado': '2025-10-29T15:51:34.683649Z',\n",
      "  'descripcion': 'Azucar blanca refinada',\n",
      "  'id': 26,\n",
      "  'nombre': 'Azucar',\n",
      "  'porcentaje_ganancia': '35.00',\n",
      "  'precio': '10.00',\n",
      "  'proveedor': 'D1'}]\n"
     ]
    }
   ],
   "source": [
    "import requests\n",
    "\n",
    "from pprint import pprint\n",
    "\n",
    "# URLs para back\n",
    "BASE_URL_API = \"http://localhost:8001/productos/api/productos/\"\n",
    "# URLs para front\n",
    "BASE_URL_FRONT = \"http://localhost:8001/productos/productos/\"\n",
    "\n",
    "# GET a la API para listar productos\n",
    "response = requests.get(BASE_URL_API)\n",
    "\n",
    "print(\"Status Code:\", response.status_code)\n",
    "\n",
    "try:\n",
    "    data = response.json()\n",
    "    pprint(data)\n",
    "except Exception as e:\n",
    "    print(\"Error parsing JSON:\")\n",
    "    print(\"Response Text:\", response.text)"
   ]
  },
  {
   "cell_type": "code",
   "execution_count": 23,
   "metadata": {},
   "outputs": [
    {
     "name": "stdout",
     "output_type": "stream",
     "text": [
      "Status Code: 200\n",
      "Response JSON: {'id': 27, 'nombre': 'Azucar', 'descripcion': 'Azucar blanca refinada', 'cantidad': 12, 'precio': '10.00', 'costo': '18.00', 'proveedor': 'D1', 'porcentaje_ganancia': '35.00', 'creado': '2025-10-29T16:02:53.930670Z'}\n"
     ]
    }
   ],
   "source": [
    "nuevo_producto = {\n",
    "    \"nombre\": \"Azucar\",\n",
    "    \"descripcion\": \"Azucar blanca refinada\",\n",
    "    \"cantidad\": 12,\n",
    "    \"precio\": 10.00,\n",
    "    \"costo\": 18.00,\n",
    "    \"proveedor\": \"D1\",\n",
    "    \"porcentaje_ganancia\": 35.00\n",
    "}\n",
    "\n",
    "response = requests.post(BASE_URL_API, json=nuevo_producto)\n",
    "\n",
    "print(\"Status Code:\", response.status_code)\n",
    "\n",
    "try:\n",
    "    print(\"Response JSON:\", response.json())\n",
    "except Exception as e:\n",
    "    print(\"Error parsing JSON:\")\n",
    "    print(\"Response Text:\", response.text)"
   ]
  },
  {
   "cell_type": "code",
   "execution_count": null,
   "metadata": {},
   "outputs": [
    {
     "name": "stdout",
     "output_type": "stream",
     "text": [
      "{\"id\": 32, \"nombre\": \"Producto curl\", \"descripcion\": \"Descripcion del producto curl\", \"cantidad\": 5, \"precio\": \"20.00\", \"costo\": \"15.00\", \"proveedor\": \"Proveedor curl\", \"porcentaje_ganancia\": \"25.00\", \"creado\": \"2025-10-29T16:25:22.655810Z\"}\n"
     ]
    }
   ],
   "source": [
    "!curl -s -X POST http://localhost:8001/productos/api/productos/ \\\n",
    "  -d \"nombre=Producto curl\" \\\n",
    "  -d \"descripcion=Descripcion del producto curl\" \\\n",
    "  -d \"cantidad=5\" \\\n",
    "  -d \"precio=20.00\" \\\n",
    "  -d \"costo=15.00\" \\\n",
    "  -d \"proveedor=Proveedor curl\" \\\n",
    "  -d \"porcentaje_ganancia=25.00\"\n"
   ]
  },
  {
   "cell_type": "code",
   "execution_count": 4,
   "metadata": {},
   "outputs": [
    {
     "name": "stdout",
     "output_type": "stream",
     "text": [
      "{\"id\": 17, \"nombre\": \"Azucar\", \"descripcion\": \"Azucar blanca refinada\", \"cantidad\": 12, \"precio\": \"10.00\", \"costo\": \"18.00\", \"proveedor\": \"D1\", \"porcentaje_ganancia\": \"35.00\", \"creado\": \"2025-10-29T01:35:23.804608Z\"}\n"
     ]
    }
   ],
   "source": [
    "!curl -s -X GET http://localhost:8001/productos/api/productos/17/ \n"
   ]
  }
 ],
 "metadata": {
  "kernelspec": {
   "display_name": "Python 3",
   "language": "python",
   "name": "python3"
  },
  "language_info": {
   "codemirror_mode": {
    "name": "ipython",
    "version": 3
   },
   "file_extension": ".py",
   "mimetype": "text/x-python",
   "name": "python",
   "nbconvert_exporter": "python",
   "pygments_lexer": "ipython3",
   "version": "3.13.6"
  }
 },
 "nbformat": 4,
 "nbformat_minor": 4
}
