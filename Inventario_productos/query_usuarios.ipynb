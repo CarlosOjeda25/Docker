{
 "cells": [
  {
   "cell_type": "code",
   "execution_count": 10,
   "metadata": {},
   "outputs": [
    {
     "name": "stdout",
     "output_type": "stream",
     "text": [
      "Status Code: 200\n",
      "[{'apellido': 'Ceron',\n",
      "  'direccion': 'cr 69 #3-85a, transversal',\n",
      "  'edad': 21,\n",
      "  'email': 'jeffersonjceron@gmail.com',\n",
      "  'fecha_creacion': '2025-10-22T00:25:29.596692Z',\n",
      "  'id': 6,\n",
      "  'nombre': 'Jefferson',\n",
      "  'telefono': '3158507575'},\n",
      " {'apellido': 'asda',\n",
      "  'direccion': '',\n",
      "  'edad': 19,\n",
      "  'email': 'asd@gmail.com',\n",
      "  'fecha_creacion': '2025-10-22T01:25:29.451888Z',\n",
      "  'id': 7,\n",
      "  'nombre': 'dasd',\n",
      "  'telefono': '1234567890'},\n",
      " {'apellido': 'Pérez',\n",
      "  'direccion': 'Calle Falsa 123',\n",
      "  'edad': 30,\n",
      "  'email': 'juan.perez@example.com',\n",
      "  'fecha_creacion': '2025-10-29T02:14:25.699842Z',\n",
      "  'id': 8,\n",
      "  'nombre': 'Juan',\n",
      "  'telefono': '123456789'},\n",
      " {'apellido': 'García',\n",
      "  'direccion': 'Avenida Siempre Viva 456',\n",
      "  'edad': 25,\n",
      "  'email': 'maria.garcia@example.com',\n",
      "  'fecha_creacion': '2025-10-29T02:19:24.901222Z',\n",
      "  'id': 9,\n",
      "  'nombre': 'María',\n",
      "  'telefono': '987654321'},\n",
      " {'apellido': 'Pérez',\n",
      "  'direccion': 'Calle Falsa 123',\n",
      "  'edad': 30,\n",
      "  'email': 'juan.perez1@example.com',\n",
      "  'fecha_creacion': '2025-10-29T16:26:04.302255Z',\n",
      "  'id': 10,\n",
      "  'nombre': 'Juan',\n",
      "  'telefono': '123456789'},\n",
      " {'apellido': 'García',\n",
      "  'direccion': 'Avenida Siempre Viva 456',\n",
      "  'edad': 25,\n",
      "  'email': 'maria.garcia1@example.com',\n",
      "  'fecha_creacion': '2025-10-29T16:27:21.800521Z',\n",
      "  'id': 11,\n",
      "  'nombre': 'María',\n",
      "  'telefono': '987654321'},\n",
      " {'apellido': 'Garcia',\n",
      "  'direccion': 'Avenida Siempre Viva 456',\n",
      "  'edad': 25,\n",
      "  'email': 'maria.garcia2@example.com',\n",
      "  'fecha_creacion': '2025-10-29T16:27:34.101720Z',\n",
      "  'id': 12,\n",
      "  'nombre': 'Maria',\n",
      "  'telefono': '987654321'}]\n"
     ]
    }
   ],
   "source": [
    "import requests\n",
    "\n",
    "from pprint import pprint\n",
    "\n",
    "# URLs para back\n",
    "BASE_URL_API = \"http://localhost:8001/usuarios/api/usuarios/\"\n",
    "# URLs para front\n",
    "BASE_URL_FRONT = \"http://localhost:8001/usuarios/usuarios/\"\n",
    "\n",
    "# GET a la API para listar usuarios\n",
    "response = requests.get(BASE_URL_API)\n",
    "\n",
    "print(\"Status Code:\", response.status_code)\n",
    "\n",
    "try:\n",
    "    data = response.json()\n",
    "    pprint(data)\n",
    "except Exception as e:\n",
    "    print(\"Error parsing JSON:\")\n",
    "    print(\"Response Text:\", response.text)"
   ]
  },
  {
   "cell_type": "code",
   "execution_count": 3,
   "metadata": {},
   "outputs": [
    {
     "name": "stdout",
     "output_type": "stream",
     "text": [
      "Status Code: 200\n",
      "Response JSON: {'id': 10, 'nombre': 'Juan', 'apellido': 'Pérez', 'edad': 30, 'email': 'juan.perez1@example.com', 'telefono': '123456789', 'direccion': 'Calle Falsa 123', 'fecha_creacion': '2025-10-29T16:26:04.302255Z'}\n"
     ]
    }
   ],
   "source": [
    "# POST a la API para crear usuario\n",
    "nuevo_usuario = {\n",
    "    \"nombre\": \"Juan\",\n",
    "    \"apellido\": \"Pérez\",\n",
    "    \"edad\": 30,\n",
    "    \"email\": \"juan.perez1@example.com\",\n",
    "    \"telefono\": \"123456789\",\n",
    "    \"direccion\": \"Calle Falsa 123\"\n",
    "}\n",
    "\n",
    "response = requests.post(BASE_URL_API, json=nuevo_usuario)\n",
    "\n",
    "print(\"Status Code:\", response.status_code)\n",
    "\n",
    "try:\n",
    "    print(\"Response JSON:\", response.json())\n",
    "except Exception as e:\n",
    "    print(\"Error parsing JSON:\")\n",
    "    print(\"Response Text:\", response.text)"
   ]
  },
  {
   "cell_type": "code",
   "execution_count": 6,
   "metadata": {},
   "outputs": [
    {
     "name": "stdout",
     "output_type": "stream",
     "text": [
      "{\"id\": 12, \"nombre\": \"Maria\", \"apellido\": \"Garcia\", \"edad\": 25, \"email\": \"maria.garcia2@example.com\", \"telefono\": \"987654321\", \"direccion\": \"Avenida Siempre Viva 456\", \"fecha_creacion\": \"2025-10-29T16:27:34.101720Z\"}\n"
     ]
    }
   ],
   "source": [
    "!curl -s -X POST http://localhost:8001/usuarios/api/usuarios/ \\\n",
    "  -d \"nombre=Maria\" \\\n",
    "  -d \"apellido=Garcia\" \\\n",
    "  -d \"edad=25\" \\\n",
    "  -d \"email=maria.garcia2@example.com\" \\\n",
    "  -d \"telefono=987654321\" \\\n",
    "  -d \"direccion=Avenida Siempre Viva 456\"\n"
   ]
  },
  {
   "cell_type": "code",
   "execution_count": 22,
   "metadata": {},
   "outputs": [
    {
     "name": "stdout",
     "output_type": "stream",
     "text": [
      "{\"id\": 6, \"nombre\": \"Jefferson\", \"apellido\": \"Ceron\", \"edad\": 21, \"email\": \"jeffersonjceron@gmail.com\", \"telefono\": \"3158507575\", \"direccion\": \"cr 69 #3-85a, transversal\", \"fecha_creacion\": \"2025-10-22T00:25:29.596692Z\"}\n"
     ]
    }
   ],
   "source": [
    "!curl -s -X GET http://localhost:8001/usuarios/api/usuarios/6/ \n"
   ]
  }
 ],
 "metadata": {
  "kernelspec": {
   "display_name": "Python 3",
   "language": "python",
   "name": "python3"
  },
  "language_info": {
   "codemirror_mode": {
    "name": "ipython",
    "version": 3
   },
   "file_extension": ".py",
   "mimetype": "text/x-python",
   "name": "python",
   "nbconvert_exporter": "python",
   "pygments_lexer": "ipython3",
   "version": "3.13.6"
  }
 },
 "nbformat": 4,
 "nbformat_minor": 4
}
